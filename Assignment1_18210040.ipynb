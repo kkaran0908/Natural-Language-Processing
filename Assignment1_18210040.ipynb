{
 "cells": [
  {
   "cell_type": "code",
   "execution_count": 223,
   "metadata": {},
   "outputs": [],
   "source": [
    "import pandas as pd\n",
    "import re\n",
    "# Tutorial about Python regular expressions: https://pymotw.com/2/re/\n",
    "import string\n",
    "from nltk.corpus import stopwords\n",
    "import tqdm\n",
    "from bs4 import BeautifulSoup\n",
    "from tqdm import tqdm\n",
    "import numpy as np"
   ]
  },
  {
   "cell_type": "markdown",
   "metadata": {},
   "source": [
    "## Data Pre-Processing"
   ]
  },
  {
   "cell_type": "code",
   "execution_count": 224,
   "metadata": {},
   "outputs": [],
   "source": [
    "data = pd.read_csv('tweets-dataset.csv')"
   ]
  },
  {
   "cell_type": "code",
   "execution_count": 225,
   "metadata": {},
   "outputs": [
    {
     "data": {
      "text/plain": [
       "Index(['Sentence'], dtype='object')"
      ]
     },
     "execution_count": 225,
     "metadata": {},
     "output_type": "execute_result"
    }
   ],
   "source": [
    "data.columns"
   ]
  },
  {
   "cell_type": "code",
   "execution_count": 226,
   "metadata": {},
   "outputs": [
    {
     "data": {
      "text/html": [
       "<div>\n",
       "<style scoped>\n",
       "    .dataframe tbody tr th:only-of-type {\n",
       "        vertical-align: middle;\n",
       "    }\n",
       "\n",
       "    .dataframe tbody tr th {\n",
       "        vertical-align: top;\n",
       "    }\n",
       "\n",
       "    .dataframe thead th {\n",
       "        text-align: right;\n",
       "    }\n",
       "</style>\n",
       "<table border=\"1\" class=\"dataframe\">\n",
       "  <thead>\n",
       "    <tr style=\"text-align: right;\">\n",
       "      <th></th>\n",
       "      <th>Sentence</th>\n",
       "    </tr>\n",
       "  </thead>\n",
       "  <tbody>\n",
       "    <tr>\n",
       "      <th>0</th>\n",
       "      <td>@BubblyDentist @MeetUunngLee nahi nahi, mere s...</td>\n",
       "    </tr>\n",
       "    <tr>\n",
       "      <th>1</th>\n",
       "      <td>going to the grammys first entertainment law b...</td>\n",
       "    </tr>\n",
       "    <tr>\n",
       "      <th>2</th>\n",
       "      <td>bohot hi badiya ji aap sunao?</td>\n",
       "    </tr>\n",
       "    <tr>\n",
       "      <th>3</th>\n",
       "      <td>Parvez Musharraf is Digvijay Singh of Pakistan...</td>\n",
       "    </tr>\n",
       "    <tr>\n",
       "      <th>4</th>\n",
       "      <td>guddu ko bass john cena k sticker ki padii hai...</td>\n",
       "    </tr>\n",
       "  </tbody>\n",
       "</table>\n",
       "</div>"
      ],
      "text/plain": [
       "                                            Sentence\n",
       "0  @BubblyDentist @MeetUunngLee nahi nahi, mere s...\n",
       "1  going to the grammys first entertainment law b...\n",
       "2                      bohot hi badiya ji aap sunao?\n",
       "3  Parvez Musharraf is Digvijay Singh of Pakistan...\n",
       "4  guddu ko bass john cena k sticker ki padii hai..."
      ]
     },
     "execution_count": 226,
     "metadata": {},
     "output_type": "execute_result"
    }
   ],
   "source": [
    "data.head()"
   ]
  },
  {
   "cell_type": "code",
   "execution_count": 227,
   "metadata": {},
   "outputs": [],
   "source": [
    "data['text'] = data['Sentence'].values"
   ]
  },
  {
   "cell_type": "code",
   "execution_count": 228,
   "metadata": {},
   "outputs": [],
   "source": [
    "final = data"
   ]
  },
  {
   "cell_type": "code",
   "execution_count": 229,
   "metadata": {},
   "outputs": [],
   "source": [
    "# reference: https://stackoverflow.com/a/47091490/4084039\n",
    "import re\n",
    "\n",
    "def decontracted(phrase):\n",
    "    # specific\n",
    "    phrase = re.sub(r\"won't\", \"will not\", phrase)\n",
    "    phrase = re.sub(r\"can\\'t\", \"can not\", phrase)\n",
    "    phrase = re.sub(r\"n\\'t\", \" not\", phrase)\n",
    "    phrase = re.sub(r\"\\'re\", \" are\", phrase)\n",
    "    phrase = re.sub(r\"\\'s\", \" is\", phrase)\n",
    "    phrase = re.sub(r\"\\'d\", \" would\", phrase)\n",
    "    phrase = re.sub(r\"\\'ll\", \" will\", phrase)\n",
    "    phrase = re.sub(r\"\\'t\", \" not\", phrase)\n",
    "    phrase = re.sub(r\"\\'ve\", \" have\", phrase)\n",
    "    phrase = re.sub(r\"\\'m\", \" am\", phrase)\n",
    "    return phrase"
   ]
  },
  {
   "cell_type": "code",
   "execution_count": 230,
   "metadata": {},
   "outputs": [
    {
     "name": "stderr",
     "output_type": "stream",
     "text": [
      "100%|██████████████████████████████████████████████████████████████████████████| 24521/24521 [00:05<00:00, 4647.68it/s]\n"
     ]
    }
   ],
   "source": [
    "final_data = []\n",
    "# tqdm is for printing the status bar\n",
    "for sentance in tqdm(final['text'].values):\n",
    "    sentance = re.sub(r\"http\\S+\", \"\", sentance)\n",
    "    sentance = BeautifulSoup(sentance, 'lxml').get_text()\n",
    "    sentance = decontracted(sentance)\n",
    "    sentance = re.sub(\"\\S*\\d\\S*\", \"\", sentance).strip()\n",
    "    sentance = re.sub('[^A-Za-z]+', ' ', sentance)\n",
    "    # https://gist.github.com/sebleier/554280\n",
    "    sentance = ' '.join(e.lower() for e in sentance.split())\n",
    "    final_data.append(sentance.strip())"
   ]
  },
  {
   "cell_type": "code",
   "execution_count": 231,
   "metadata": {},
   "outputs": [
    {
     "name": "stdout",
     "output_type": "stream",
     "text": [
      "First data point before data cleaning :\n",
      "@BubblyDentist @MeetUunngLee nahi nahi, mere saath jaakar pachtaogi. Ye Uunnglee is the best. All girls say that\n",
      "=============================================\n",
      "First data point after data cleaning:\n"
     ]
    },
    {
     "data": {
      "text/plain": [
       "'bubblydentist meetuunnglee nahi nahi mere saath jaakar pachtaogi ye uunnglee is the best all girls say that'"
      ]
     },
     "execution_count": 231,
     "metadata": {},
     "output_type": "execute_result"
    }
   ],
   "source": [
    "print(\"First data point before data cleaning :\")\n",
    "print(data.values[0][0])\n",
    "print(\"=============================================\")\n",
    "print(\"First data point after data cleaning:\")\n",
    "final_data[0]"
   ]
  },
  {
   "cell_type": "code",
   "execution_count": 232,
   "metadata": {},
   "outputs": [],
   "source": [
    "## counting number of tokens and type of token:\n",
    "type_count = 0\n",
    "word_count = 0\n",
    "dictionary = {}\n",
    "for d_point in final_data:\n",
    "    x = d_point.split()\n",
    "    for d in x:\n",
    "        if d not in dictionary.keys():\n",
    "            type_count = type_count+1\n",
    "            dictionary[d] = 1\n",
    "        else:\n",
    "            dictionary[d] = dictionary[d]+1\n",
    "        word_count = word_count+1        "
   ]
  },
  {
   "cell_type": "markdown",
   "metadata": {},
   "source": [
    "## Ans 1 calculate TTR"
   ]
  },
  {
   "cell_type": "code",
   "execution_count": 233,
   "metadata": {},
   "outputs": [],
   "source": [
    "TTR = type_count/word_count"
   ]
  },
  {
   "cell_type": "code",
   "execution_count": 234,
   "metadata": {},
   "outputs": [
    {
     "name": "stdout",
     "output_type": "stream",
     "text": [
      "Total Number of Tokens in the Dataset : 310416\n",
      "No of Type of Tokens in the Dataset:  34984\n",
      "TTR values for the entire dataset: 0.11270037626926448\n"
     ]
    }
   ],
   "source": [
    "print(\"Total Number of Tokens in the Dataset :\",word_count)\n",
    "print(\"No of Type of Tokens in the Dataset: \",type_count)\n",
    "print(\"TTR values for the entire dataset:\",TTR)"
   ]
  },
  {
   "cell_type": "markdown",
   "metadata": {},
   "source": [
    "## ANS 2 Zipf's law for meaning and length"
   ]
  },
  {
   "cell_type": "code",
   "execution_count": 235,
   "metadata": {},
   "outputs": [
    {
     "name": "stderr",
     "output_type": "stream",
     "text": [
      "[nltk_data] Downloading package wordnet to\n",
      "[nltk_data]     C:\\Users\\karan\\AppData\\Roaming\\nltk_data...\n",
      "[nltk_data]   Package wordnet is already up-to-date!\n"
     ]
    },
    {
     "data": {
      "text/plain": [
       "True"
      ]
     },
     "execution_count": 235,
     "metadata": {},
     "output_type": "execute_result"
    }
   ],
   "source": [
    "from nltk.corpus import wordnet\n",
    "import nltk\n",
    "nltk.download('wordnet')"
   ]
  },
  {
   "cell_type": "code",
   "execution_count": 236,
   "metadata": {},
   "outputs": [
    {
     "data": {
      "text/plain": [
       "'ye bina peeye bhi aise hote hai kaafi dekhe hai aur woh bada problem hai'"
      ]
     },
     "execution_count": 236,
     "metadata": {},
     "output_type": "execute_result"
    }
   ],
   "source": [
    "final_data[22000]"
   ]
  },
  {
   "cell_type": "code",
   "execution_count": 237,
   "metadata": {},
   "outputs": [
    {
     "name": "stdout",
     "output_type": "stream",
     "text": [
      "love-----> [Synset('love.n.01'), Synset('love.n.02'), Synset('beloved.n.01'), Synset('love.n.04'), Synset('love.n.05'), Synset('sexual_love.n.02'), Synset('love.v.01'), Synset('love.v.02'), Synset('love.v.03'), Synset('sleep_together.v.01')]\n",
      "==================================================\n",
      "got-----> [Synset('get.v.01'), Synset('become.v.01'), Synset('get.v.03'), Synset('receive.v.02'), Synset('arrive.v.01'), Synset('bring.v.04'), Synset('experience.v.03'), Synset('pay_back.v.02'), Synset('have.v.17'), Synset('induce.v.02'), Synset('get.v.11'), Synset('grow.v.08'), Synset('contract.v.04'), Synset('get.v.14'), Synset('make.v.02'), Synset('drive.v.11'), Synset('catch.v.18'), Synset('catch.v.07'), Synset('get.v.19'), Synset('get.v.20'), Synset('get.v.21'), Synset('get.v.22'), Synset('catch.v.21'), Synset('catch.v.22'), Synset('get.v.25'), Synset('scram.v.01'), Synset('get.v.27'), Synset('get.v.28'), Synset('get.v.29'), Synset('catch.v.24'), Synset('draw.v.15'), Synset('get.v.32'), Synset('perplex.v.01'), Synset('get_down.v.07'), Synset('suffer.v.02'), Synset('beget.v.01')]\n",
      "==================================================\n",
      "complete-----> [Synset('complete.v.01'), Synset('complete.v.02'), Synset('dispatch.v.02'), Synset('complete.v.04'), Synset('complete.v.05'), Synset('complete.a.01'), Synset('complete.s.02'), Synset('accomplished.s.01'), Synset('arrant.s.01'), Synset('complete.s.05')]\n",
      "==================================================\n",
      "know-----> [Synset('know.n.01'), Synset('know.v.01'), Synset('know.v.02'), Synset('know.v.03'), Synset('know.v.04'), Synset('know.v.05'), Synset('acknowledge.v.06'), Synset('know.v.07'), Synset('sleep_together.v.01'), Synset('know.v.09'), Synset('know.v.10'), Synset('know.v.11')]\n",
      "==================================================\n",
      "suicide-----> [Synset('suicide.n.01'), Synset('suicide.n.02')]\n",
      "==================================================\n",
      "sorry-----> [Synset('regretful.a.01'), Synset('deplorable.s.01'), Synset('good-for-nothing.s.01'), Synset('blue.s.08')]\n",
      "==================================================\n",
      "spam-----> [Synset('spam.n.01'), Synset('spam.n.02'), Synset('spam.v.01')]\n",
      "==================================================\n",
      "attack-----> [Synset('attack.n.01'), Synset('attack.n.02'), Synset('fire.n.09'), Synset('approach.n.01'), Synset('attack.n.05'), Synset('attack.n.06'), Synset('attack.n.07'), Synset('attack.n.08'), Synset('attack.n.09'), Synset('attack.v.01'), Synset('attack.v.02'), Synset('attack.v.03'), Synset('assail.v.01'), Synset('attack.v.05'), Synset('attack.v.06')]\n",
      "==================================================\n",
      "underwear-----> [Synset('underwear.n.01')]\n",
      "==================================================\n",
      "delete-----> [Synset('delete.v.01'), Synset('erase.v.03'), Synset('edit.v.04')]\n",
      "==================================================\n",
      "tweet-----> [Synset('tweet.n.01'), Synset('tweet.v.01'), Synset('pinch.v.01')]\n",
      "==================================================\n",
      "original-----> [Synset('master.n.06'), Synset('original.n.02'), Synset('original.s.01'), Synset('original.s.02'), Synset('original.a.03'), Synset('original.s.04')]\n",
      "==================================================\n",
      "problem-----> [Synset('problem.n.01'), Synset('problem.n.02'), Synset('trouble.n.01')]\n",
      "==================================================\n",
      "is-----> [Synset('be.v.01'), Synset('be.v.02'), Synset('be.v.03'), Synset('exist.v.01'), Synset('be.v.05'), Synset('equal.v.01'), Synset('constitute.v.01'), Synset('be.v.08'), Synset('embody.v.02'), Synset('be.v.10'), Synset('be.v.11'), Synset('be.v.12'), Synset('cost.v.01')]\n",
      "==================================================\n"
     ]
    }
   ],
   "source": [
    "word = ['love','got','complete','know','suicide','sorry','spam','attack','underwear','delete','tweet','original','problem','is',]\n",
    "d_word = {}\n",
    "frequency = []\n",
    "for w in word:\n",
    "    syns = wordnet.synsets(w)\n",
    "    print(w+\"----->\",syns)\n",
    "    print(\"==================================================\")\n",
    "    d_word[w] = len(syns)\n",
    "    frequency.append(dictionary[w])"
   ]
  },
  {
   "cell_type": "code",
   "execution_count": 238,
   "metadata": {},
   "outputs": [],
   "source": [
    "length = [len(x) for x in word ]"
   ]
  },
  {
   "cell_type": "code",
   "execution_count": 239,
   "metadata": {},
   "outputs": [
    {
     "data": {
      "text/plain": [
       "{'love': 10,\n",
       " 'got': 36,\n",
       " 'complete': 10,\n",
       " 'know': 12,\n",
       " 'suicide': 2,\n",
       " 'sorry': 4,\n",
       " 'spam': 3,\n",
       " 'attack': 15,\n",
       " 'underwear': 1,\n",
       " 'delete': 3,\n",
       " 'tweet': 3,\n",
       " 'original': 6,\n",
       " 'problem': 3,\n",
       " 'is': 13}"
      ]
     },
     "execution_count": 239,
     "metadata": {},
     "output_type": "execute_result"
    }
   ],
   "source": [
    "d_word"
   ]
  },
  {
   "cell_type": "markdown",
   "metadata": {},
   "source": [
    "## relation with length of a word with it's frequency\n",
    "### for sample words"
   ]
  },
  {
   "cell_type": "code",
   "execution_count": 240,
   "metadata": {},
   "outputs": [],
   "source": [
    "word = ['love','got','am','go','my','me','can','day','sir','expressions','boy','just','had','has','have','experiencing','isensitivity','even','who','out','help','may','man','fact','now','cup','complete','twitter','will','do','like','a','pic','an','i','to','was','are','the','know','suicide','time','sorry','music','call','comment','devotee','complaint','productive','episode','spam','attack','underwear','delete','tweet','original','problem','is','nitishkanaklivikas']\n",
    "freq = []\n",
    "for w in word:\n",
    "    freq.append(dictionary[w])"
   ]
  },
  {
   "cell_type": "code",
   "execution_count": 241,
   "metadata": {},
   "outputs": [
    {
     "data": {
      "image/png": "[encoded data removed]",
      "text/plain": [
       "<Figure size 432x288 with 1 Axes>"
      ]
     },
     "metadata": {
      "needs_background": "light"
     },
     "output_type": "display_data"
    }
   ],
   "source": [
    "import matplotlib.pyplot as plt\n",
    "plt.scatter(freq,[len(l) for l in word])\n",
    "plt.xlabel(\"Frequency\")\n",
    "plt.ylabel(\"length of the word\")\n",
    "plt.title(\"Relation between length of a word and it's frequency in the dataset\")\n",
    "plt.legend(['Frequency vs Length of the Word'])\n",
    "plt.plot()\n",
    "plt.show()"
   ]
  },
  {
   "cell_type": "markdown",
   "metadata": {},
   "source": [
    "### for all the words in the dataset"
   ]
  },
  {
   "cell_type": "code",
   "execution_count": 255,
   "metadata": {},
   "outputs": [],
   "source": [
    "leng, f = [len(l) for l in dictionary.keys()],[fre for fre in dictionary.values()]"
   ]
  },
  {
   "cell_type": "code",
   "execution_count": 259,
   "metadata": {},
   "outputs": [
    {
     "data": {
      "image/png": "[encoded data removed]",
      "text/plain": [
       "<Figure size 432x288 with 1 Axes>"
      ]
     },
     "metadata": {
      "needs_background": "light"
     },
     "output_type": "display_data"
    }
   ],
   "source": [
    "plt.scatter(f,leng)\n",
    "plt.xlabel(\"Frequency of the word\")\n",
    "plt.ylabel(\"Length of the word\")\n",
    "plt.title(\"Length vs Frequency Plot\")\n",
    "plt.show()"
   ]
  },
  {
   "cell_type": "markdown",
   "metadata": {},
   "source": [
    "1. As the frequency of the words in the dataset is increasing its length starts decreasing."
   ]
  },
  {
   "cell_type": "markdown",
   "metadata": {},
   "source": [
    "## meaning of a word vs frequency of the word "
   ]
  },
  {
   "cell_type": "code",
   "execution_count": 242,
   "metadata": {},
   "outputs": [
    {
     "name": "stdout",
     "output_type": "stream",
     "text": [
      "love-----> [Synset('love.n.01'), Synset('love.n.02'), Synset('beloved.n.01'), Synset('love.n.04'), Synset('love.n.05'), Synset('sexual_love.n.02'), Synset('love.v.01'), Synset('love.v.02'), Synset('love.v.03'), Synset('sleep_together.v.01')]\n",
      "==================================================\n",
      "got-----> [Synset('get.v.01'), Synset('become.v.01'), Synset('get.v.03'), Synset('receive.v.02'), Synset('arrive.v.01'), Synset('bring.v.04'), Synset('experience.v.03'), Synset('pay_back.v.02'), Synset('have.v.17'), Synset('induce.v.02'), Synset('get.v.11'), Synset('grow.v.08'), Synset('contract.v.04'), Synset('get.v.14'), Synset('make.v.02'), Synset('drive.v.11'), Synset('catch.v.18'), Synset('catch.v.07'), Synset('get.v.19'), Synset('get.v.20'), Synset('get.v.21'), Synset('get.v.22'), Synset('catch.v.21'), Synset('catch.v.22'), Synset('get.v.25'), Synset('scram.v.01'), Synset('get.v.27'), Synset('get.v.28'), Synset('get.v.29'), Synset('catch.v.24'), Synset('draw.v.15'), Synset('get.v.32'), Synset('perplex.v.01'), Synset('get_down.v.07'), Synset('suffer.v.02'), Synset('beget.v.01')]\n",
      "==================================================\n",
      "am-----> [Synset('americium.n.01'), Synset('master_of_arts.n.01'), Synset('amplitude_modulation.n.01'), Synset('be.v.01'), Synset('be.v.02'), Synset('be.v.03'), Synset('exist.v.01'), Synset('be.v.05'), Synset('equal.v.01'), Synset('constitute.v.01'), Synset('be.v.08'), Synset('embody.v.02'), Synset('be.v.10'), Synset('be.v.11'), Synset('be.v.12'), Synset('cost.v.01')]\n",
      "==================================================\n",
      "go-----> [Synset('go.n.01'), Synset('adam.n.03'), Synset('crack.n.09'), Synset('go.n.04'), Synset('travel.v.01'), Synset('go.v.02'), Synset('go.v.03'), Synset('become.v.01'), Synset('go.v.05'), Synset('run.v.05'), Synset('run.v.03'), Synset('proceed.v.04'), Synset('go.v.09'), Synset('go.v.10'), Synset('sound.v.02'), Synset('function.v.01'), Synset('run_low.v.01'), Synset('move.v.13'), Synset('survive.v.01'), Synset('go.v.16'), Synset('die.v.01'), Synset('belong.v.03'), Synset('go.v.19'), Synset('start.v.09'), Synset('move.v.15'), Synset('go.v.22'), Synset('go.v.23'), Synset('blend.v.02'), Synset('go.v.25'), Synset('fit.v.02'), Synset('rifle.v.02'), Synset('go.v.28'), Synset('plump.v.04'), Synset('fail.v.04'), Synset('go.a.01')]\n",
      "==================================================\n",
      "my-----> []\n",
      "==================================================\n",
      "me-----> [Synset('maine.n.01')]\n",
      "==================================================\n",
      "can-----> [Synset('can.n.01'), Synset('can.n.02'), Synset('can.n.03'), Synset('buttocks.n.01'), Synset('toilet.n.02'), Synset('toilet.n.01'), Synset('can.v.01'), Synset('displace.v.03')]\n",
      "==================================================\n",
      "day-----> [Synset('day.n.01'), Synset('day.n.02'), Synset('day.n.03'), Synset('day.n.04'), Synset('day.n.05'), Synset('day.n.06'), Synset('day.n.07'), Synset('sidereal_day.n.01'), Synset('day.n.09'), Synset('day.n.10')]\n",
      "==================================================\n",
      "sir-----> [Synset('sir.n.01'), Synset('sir.n.02')]\n",
      "==================================================\n",
      "expressions-----> [Synset('expression.n.01'), Synset('expression.n.02'), Synset('expression.n.03'), Synset('saying.n.01'), Synset('formulation.n.03'), Synset('formula.n.01'), Synset('expression.n.07'), Synset('construction.n.02'), Synset('expression.n.09')]\n",
      "==================================================\n",
      "boy-----> [Synset('male_child.n.01'), Synset('boy.n.02'), Synset('son.n.01'), Synset('boy.n.04')]\n",
      "==================================================\n",
      "just-----> [Synset('just.a.01'), Synset('equitable.a.01'), Synset('fair.a.01'), Synset('good.s.07'), Synset('merely.r.01'), Synset('precisely.r.01'), Synset('just.r.03'), Synset('just.r.04'), Synset('barely.r.01'), Synset('just.r.06')]\n",
      "==================================================\n",
      "had-----> [Synset('have.v.01'), Synset('have.v.02'), Synset('experience.v.03'), Synset('own.v.01'), Synset('get.v.03'), Synset('consume.v.02'), Synset('have.v.07'), Synset('hold.v.03'), Synset('have.v.09'), Synset('have.v.10'), Synset('have.v.11'), Synset('have.v.12'), Synset('induce.v.02'), Synset('accept.v.02'), Synset('receive.v.01'), Synset('suffer.v.02'), Synset('have.v.17'), Synset('give_birth.v.01'), Synset('take.v.35')]\n",
      "==================================================\n",
      "has-----> [Synset('hour_angle.n.02'), Synset('have.v.01'), Synset('have.v.02'), Synset('experience.v.03'), Synset('own.v.01'), Synset('get.v.03'), Synset('consume.v.02'), Synset('have.v.07'), Synset('hold.v.03'), Synset('have.v.09'), Synset('have.v.10'), Synset('have.v.11'), Synset('have.v.12'), Synset('induce.v.02'), Synset('accept.v.02'), Synset('receive.v.01'), Synset('suffer.v.02'), Synset('have.v.17'), Synset('give_birth.v.01'), Synset('take.v.35')]\n",
      "==================================================\n",
      "have-----> [Synset('rich_person.n.01'), Synset('have.v.01'), Synset('have.v.02'), Synset('experience.v.03'), Synset('own.v.01'), Synset('get.v.03'), Synset('consume.v.02'), Synset('have.v.07'), Synset('hold.v.03'), Synset('have.v.09'), Synset('have.v.10'), Synset('have.v.11'), Synset('have.v.12'), Synset('induce.v.02'), Synset('accept.v.02'), Synset('receive.v.01'), Synset('suffer.v.02'), Synset('have.v.17'), Synset('give_birth.v.01'), Synset('take.v.35')]\n",
      "==================================================\n",
      "experiencing-----> [Synset('experience.v.01'), Synset('know.v.05'), Synset('experience.v.03'), Synset('feel.v.01'), Synset('have.v.11')]\n",
      "==================================================\n",
      "isensitivity-----> []\n",
      "==================================================\n",
      "even-----> [Synset('evening.n.01'), Synset('flush.v.04'), Synset('even.v.02'), Synset('even.v.03'), Synset('even.a.01'), Synset('even.s.02'), Synset('even.a.03'), Synset('even.s.04'), Synset('even.s.05'), Synset('tied.s.05'), Synset('even.r.01'), Synset('even.r.02'), Synset('even.r.03'), Synset('even.r.04')]\n",
      "==================================================\n",
      "who-----> [Synset('world_health_organization.n.01')]\n",
      "==================================================\n",
      "out-----> [Synset('out.n.01'), Synset('come_out_of_the_closet.v.01'), Synset('out.v.02'), Synset('out.v.03'), Synset('out.a.01'), Synset('extinct.s.03'), Synset('out.s.03'), Synset('out.s.04'), Synset('forbidden.s.01'), Synset('out.s.06'), Synset('out.s.07'), Synset('out.s.08'), Synset('out.s.09'), Synset('knocked_out.s.01'), Synset('out.r.01'), Synset('out.r.02'), Synset('away.r.02')]\n",
      "==================================================\n",
      "help-----> [Synset('aid.n.02'), Synset('assistant.n.01'), Synset('aid.n.01'), Synset('avail.n.01'), Synset('help.v.01'), Synset('help.v.02'), Synset('help.v.03'), Synset('help_oneself.v.01'), Synset('serve.v.05'), Synset('help.v.06'), Synset('avail.v.03'), Synset('help.v.08')]\n",
      "==================================================\n",
      "may-----> [Synset('may.n.01'), Synset('whitethorn.n.01')]\n",
      "==================================================\n",
      "man-----> [Synset('man.n.01'), Synset('serviceman.n.01'), Synset('man.n.03'), Synset('homo.n.02'), Synset('man.n.05'), Synset('man.n.06'), Synset('valet.n.01'), Synset('man.n.08'), Synset('man.n.09'), Synset('man.n.10'), Synset('world.n.08'), Synset('man.v.01'), Synset('man.v.02')]\n",
      "==================================================\n",
      "fact-----> [Synset('fact.n.01'), Synset('fact.n.02'), Synset('fact.n.03'), Synset('fact.n.04')]\n",
      "==================================================\n",
      "now-----> [Synset('now.n.01'), Synset('now.r.01'), Synset('nowadays.r.01'), Synset('now.r.03'), Synset('now.r.04'), Synset('immediately.r.01'), Synset('now.r.06'), Synset('now.r.07')]\n",
      "==================================================\n",
      "cup-----> [Synset('cup.n.01'), Synset('cup.n.02'), Synset('cup.n.03'), Synset('cup.n.04'), Synset('cup.n.05'), Synset('cup.n.06'), Synset('cup.n.07'), Synset('cup.n.08'), Synset('cup.v.01'), Synset('cup.v.02'), Synset('cup.v.03')]\n",
      "==================================================\n"
     ]
    },
    {
     "name": "stdout",
     "output_type": "stream",
     "text": [
      "complete-----> [Synset('complete.v.01'), Synset('complete.v.02'), Synset('dispatch.v.02'), Synset('complete.v.04'), Synset('complete.v.05'), Synset('complete.a.01'), Synset('complete.s.02'), Synset('accomplished.s.01'), Synset('arrant.s.01'), Synset('complete.s.05')]\n",
      "==================================================\n",
      "twitter-----> [Synset('chirrup.n.01'), Synset('chitter.v.01')]\n",
      "==================================================\n",
      "will-----> [Synset('volition.n.01'), Synset('will.n.02'), Synset('will.n.03'), Synset('will.v.01'), Synset('will.v.02'), Synset('bequeath.v.01')]\n",
      "==================================================\n",
      "do-----> [Synset('bash.n.02'), Synset('do.n.02'), Synset('doctor_of_osteopathy.n.01'), Synset('make.v.01'), Synset('perform.v.01'), Synset('do.v.03'), Synset('do.v.04'), Synset('cause.v.01'), Synset('practice.v.01'), Synset('suffice.v.01'), Synset('do.v.08'), Synset('act.v.02'), Synset('serve.v.09'), Synset('do.v.11'), Synset('dress.v.16'), Synset('do.v.13')]\n",
      "==================================================\n",
      "like-----> [Synset('like.n.01'), Synset('like.n.02'), Synset('wish.v.02'), Synset('like.v.02'), Synset('like.v.03'), Synset('like.v.04'), Synset('like.v.05'), Synset('like.a.01'), Synset('like.a.02'), Synset('alike.a.01'), Synset('comparable.s.02')]\n",
      "==================================================\n",
      "a-----> [Synset('angstrom.n.01'), Synset('vitamin_a.n.01'), Synset('deoxyadenosine_monophosphate.n.01'), Synset('adenine.n.01'), Synset('ampere.n.02'), Synset('a.n.06'), Synset('a.n.07')]\n",
      "==================================================\n",
      "pic-----> [Synset('movie.n.01'), Synset('photograph.n.01')]\n",
      "==================================================\n",
      "an-----> [Synset('associate_in_nursing.n.01')]\n",
      "==================================================\n",
      "i-----> [Synset('iodine.n.01'), Synset('one.n.01'), Synset('i.n.03'), Synset('one.s.01')]\n",
      "==================================================\n",
      "to-----> []\n",
      "==================================================\n",
      "was-----> [Synset('washington.n.02'), Synset('be.v.01'), Synset('be.v.02'), Synset('be.v.03'), Synset('exist.v.01'), Synset('be.v.05'), Synset('equal.v.01'), Synset('constitute.v.01'), Synset('be.v.08'), Synset('embody.v.02'), Synset('be.v.10'), Synset('be.v.11'), Synset('be.v.12'), Synset('cost.v.01')]\n",
      "==================================================\n",
      "are-----> [Synset('are.n.01'), Synset('be.v.01'), Synset('be.v.02'), Synset('be.v.03'), Synset('exist.v.01'), Synset('be.v.05'), Synset('equal.v.01'), Synset('constitute.v.01'), Synset('be.v.08'), Synset('embody.v.02'), Synset('be.v.10'), Synset('be.v.11'), Synset('be.v.12'), Synset('cost.v.01')]\n",
      "==================================================\n",
      "the-----> []\n",
      "==================================================\n",
      "know-----> [Synset('know.n.01'), Synset('know.v.01'), Synset('know.v.02'), Synset('know.v.03'), Synset('know.v.04'), Synset('know.v.05'), Synset('acknowledge.v.06'), Synset('know.v.07'), Synset('sleep_together.v.01'), Synset('know.v.09'), Synset('know.v.10'), Synset('know.v.11')]\n",
      "==================================================\n",
      "suicide-----> [Synset('suicide.n.01'), Synset('suicide.n.02')]\n",
      "==================================================\n",
      "time-----> [Synset('time.n.01'), Synset('time.n.02'), Synset('time.n.03'), Synset('time.n.04'), Synset('time.n.05'), Synset('time.n.06'), Synset('clock_time.n.01'), Synset('fourth_dimension.n.01'), Synset('meter.n.04'), Synset('prison_term.n.01'), Synset('clock.v.01'), Synset('time.v.02'), Synset('time.v.03'), Synset('time.v.04'), Synset('time.v.05')]\n",
      "==================================================\n",
      "sorry-----> [Synset('regretful.a.01'), Synset('deplorable.s.01'), Synset('good-for-nothing.s.01'), Synset('blue.s.08')]\n",
      "==================================================\n",
      "music-----> [Synset('music.n.01'), Synset('music.n.02'), Synset('music.n.03'), Synset('music.n.04'), Synset('music.n.05')]\n",
      "==================================================\n",
      "call-----> [Synset('call.n.01'), Synset('call.n.02'), Synset('cry.n.01'), Synset('call.n.04'), Synset('birdcall.n.01'), Synset('call.n.06'), Synset('margin_call.n.01'), Synset('call.n.08'), Synset('call.n.09'), Synset('call.n.10'), Synset('call.n.11'), Synset('call.n.12'), Synset('call_option.n.02'), Synset('name.v.01'), Synset('call.v.02'), Synset('call.v.03'), Synset('shout.v.02'), Synset('call.v.05'), Synset('visit.v.03'), Synset('call.v.07'), Synset('call.v.08'), Synset('call.v.09'), Synset('call.v.10'), Synset('call.v.11'), Synset('address.v.06'), Synset('call.v.13'), Synset('call.v.14'), Synset('bid.v.04'), Synset('call.v.16'), Synset('call.v.17'), Synset('predict.v.01'), Synset('call.v.19'), Synset('call.v.20'), Synset('call.v.21'), Synset('call.v.22'), Synset('call.v.23'), Synset('call.v.24'), Synset('call.v.25'), Synset('call.v.26'), Synset('call.v.27'), Synset('call.v.28')]\n",
      "==================================================\n",
      "comment-----> [Synset('remark.n.01'), Synset('comment.n.02'), Synset('gossip.n.02'), Synset('comment.v.01'), Synset('comment.v.02'), Synset('gloss.v.02')]\n",
      "==================================================\n",
      "devotee-----> [Synset('fan.n.03')]\n",
      "==================================================\n",
      "complaint-----> [Synset('ailment.n.01'), Synset('complaint.n.02'), Synset('complaint.n.03'), Synset('complaint.n.04'), Synset('charge.n.02')]\n",
      "==================================================\n",
      "productive-----> [Synset('productive.a.01'), Synset('generative.a.01'), Synset('productive.s.03'), Synset('fat.s.05')]\n",
      "==================================================\n",
      "episode-----> [Synset('episode.n.01'), Synset('episode.n.02'), Synset('episode.n.03'), Synset('sequence.n.03')]\n",
      "==================================================\n",
      "spam-----> [Synset('spam.n.01'), Synset('spam.n.02'), Synset('spam.v.01')]\n",
      "==================================================\n",
      "attack-----> [Synset('attack.n.01'), Synset('attack.n.02'), Synset('fire.n.09'), Synset('approach.n.01'), Synset('attack.n.05'), Synset('attack.n.06'), Synset('attack.n.07'), Synset('attack.n.08'), Synset('attack.n.09'), Synset('attack.v.01'), Synset('attack.v.02'), Synset('attack.v.03'), Synset('assail.v.01'), Synset('attack.v.05'), Synset('attack.v.06')]\n",
      "==================================================\n",
      "underwear-----> [Synset('underwear.n.01')]\n",
      "==================================================\n",
      "delete-----> [Synset('delete.v.01'), Synset('erase.v.03'), Synset('edit.v.04')]\n",
      "==================================================\n",
      "tweet-----> [Synset('tweet.n.01'), Synset('tweet.v.01'), Synset('pinch.v.01')]\n",
      "==================================================\n",
      "original-----> [Synset('master.n.06'), Synset('original.n.02'), Synset('original.s.01'), Synset('original.s.02'), Synset('original.a.03'), Synset('original.s.04')]\n",
      "==================================================\n",
      "problem-----> [Synset('problem.n.01'), Synset('problem.n.02'), Synset('trouble.n.01')]\n",
      "==================================================\n",
      "is-----> [Synset('be.v.01'), Synset('be.v.02'), Synset('be.v.03'), Synset('exist.v.01'), Synset('be.v.05'), Synset('equal.v.01'), Synset('constitute.v.01'), Synset('be.v.08'), Synset('embody.v.02'), Synset('be.v.10'), Synset('be.v.11'), Synset('be.v.12'), Synset('cost.v.01')]\n",
      "==================================================\n",
      "nitishkanaklivikas-----> []\n",
      "==================================================\n"
     ]
    }
   ],
   "source": [
    "#word = ['love','got','complete','know','suicide','sorry','spam','attack','underwear','delete','tweet','original','problem','is',]\n",
    "d_word = {}\n",
    "frequency = []\n",
    "for w in word:\n",
    "    syns = wordnet.synsets(w)\n",
    "    print(w+\"----->\",syns)\n",
    "    print(\"==================================================\")\n",
    "    d_word[w] = len(syns)\n",
    "    frequency.append(dictionary[w])"
   ]
  },
  {
   "cell_type": "code",
   "execution_count": 243,
   "metadata": {},
   "outputs": [
    {
     "name": "stdout",
     "output_type": "stream",
     "text": [
      "No of meaning of the different words available in the data corpus :\n"
     ]
    },
    {
     "data": {
      "text/plain": [
       "{'love': 10,\n",
       " 'got': 36,\n",
       " 'am': 16,\n",
       " 'go': 35,\n",
       " 'my': 0,\n",
       " 'me': 1,\n",
       " 'can': 8,\n",
       " 'day': 10,\n",
       " 'sir': 2,\n",
       " 'expressions': 9,\n",
       " 'boy': 4,\n",
       " 'just': 10,\n",
       " 'had': 19,\n",
       " 'has': 20,\n",
       " 'have': 20,\n",
       " 'experiencing': 5,\n",
       " 'isensitivity': 0,\n",
       " 'even': 14,\n",
       " 'who': 1,\n",
       " 'out': 17,\n",
       " 'help': 12,\n",
       " 'may': 2,\n",
       " 'man': 13,\n",
       " 'fact': 4,\n",
       " 'now': 8,\n",
       " 'cup': 11,\n",
       " 'complete': 10,\n",
       " 'twitter': 2,\n",
       " 'will': 6,\n",
       " 'do': 16,\n",
       " 'like': 11,\n",
       " 'a': 7,\n",
       " 'pic': 2,\n",
       " 'an': 1,\n",
       " 'i': 4,\n",
       " 'to': 0,\n",
       " 'was': 14,\n",
       " 'are': 14,\n",
       " 'the': 0,\n",
       " 'know': 12,\n",
       " 'suicide': 2,\n",
       " 'time': 15,\n",
       " 'sorry': 4,\n",
       " 'music': 5,\n",
       " 'call': 41,\n",
       " 'comment': 6,\n",
       " 'devotee': 1,\n",
       " 'complaint': 5,\n",
       " 'productive': 4,\n",
       " 'episode': 4,\n",
       " 'spam': 3,\n",
       " 'attack': 15,\n",
       " 'underwear': 1,\n",
       " 'delete': 3,\n",
       " 'tweet': 3,\n",
       " 'original': 6,\n",
       " 'problem': 3,\n",
       " 'is': 13,\n",
       " 'nitishkanaklivikas': 0}"
      ]
     },
     "execution_count": 243,
     "metadata": {},
     "output_type": "execute_result"
    }
   ],
   "source": [
    "print(\"No of meaning of the different words available in the data corpus :\")\n",
    "d_word"
   ]
  },
  {
   "cell_type": "code",
   "execution_count": 244,
   "metadata": {},
   "outputs": [
    {
     "data": {
      "text/plain": [
       "<matplotlib.legend.Legend at 0x174b4747320>"
      ]
     },
     "execution_count": 244,
     "metadata": {},
     "output_type": "execute_result"
    },
    {
     "data": {
      "image/png": "[encoded data removed]",
      "text/plain": [
       "<Figure size 432x288 with 1 Axes>"
      ]
     },
     "metadata": {
      "needs_background": "light"
     },
     "output_type": "display_data"
    }
   ],
   "source": [
    "plt.scatter(frequency,[d for d in d_word.values()],)\n",
    "plt.title('No of Meanings ∝ √(Frequency of words')\n",
    "plt.ylabel(\"No of meaning\")\n",
    "plt.xlabel(\"Frequency of the words\")\n",
    "plt.legend(['Frequency of Word vs No of Meaning'])"
   ]
  },
  {
   "cell_type": "markdown",
   "metadata": {},
   "source": [
    "### For all the words in the dataset"
   ]
  },
  {
   "cell_type": "code",
   "execution_count": 260,
   "metadata": {},
   "outputs": [],
   "source": [
    "meaning = []\n",
    "for w1 in dictionary.keys():\n",
    "    syns = wordnet.synsets(w1)\n",
    "    #print(w+\"----->\",syns)\n",
    "    #print(\"==================================================\")\n",
    "    #d_word[w] = len(syns)\n",
    "    meaning.append(len(syns))"
   ]
  },
  {
   "cell_type": "code",
   "execution_count": 263,
   "metadata": {},
   "outputs": [
    {
     "data": {
      "text/plain": [
       "<matplotlib.legend.Legend at 0x174de590fd0>"
      ]
     },
     "execution_count": 263,
     "metadata": {},
     "output_type": "execute_result"
    },
    {
     "data": {
      "image/png": "[encoded data removed]",
      "text/plain": [
       "<Figure size 432x288 with 1 Axes>"
      ]
     },
     "metadata": {
      "needs_background": "light"
     },
     "output_type": "display_data"
    }
   ],
   "source": [
    "plt.scatter([fre for fre in dictionary.values()],meaning)\n",
    "plt.title('No of Meanings ∝ √(Frequency of words')\n",
    "plt.ylabel(\"No of meaning\")\n",
    "plt.xlabel(\"Frequency of the words\")\n",
    "plt.legend(['Frequency of Word vs No of Meaning'])"
   ]
  },
  {
   "cell_type": "markdown",
   "metadata": {},
   "source": [
    "### ANS 3 Heap's Law"
   ]
  },
  {
   "cell_type": "code",
   "execution_count": 245,
   "metadata": {},
   "outputs": [],
   "source": [
    "tokens = []\n",
    "vocab = []\n",
    "dict1 = {}\n",
    "v_count = 0\n",
    "token_c = 0\n",
    "for w in final_data:\n",
    "    for word in w.split():\n",
    "        token_c = token_c+1\n",
    "        if word not in dict1.keys():\n",
    "            dict1[word] = 1\n",
    "            v_count = v_count+1\n",
    "    tokens.append(token_c)\n",
    "    vocab.append(v_count)"
   ]
  },
  {
   "cell_type": "code",
   "execution_count": 246,
   "metadata": {},
   "outputs": [
    {
     "data": {
      "image/png": "[encoded data removed]",
      "text/plain": [
       "<Figure size 432x288 with 1 Axes>"
      ]
     },
     "metadata": {
      "needs_background": "light"
     },
     "output_type": "display_data"
    }
   ],
   "source": [
    "plt.scatter(tokens,vocab)\n",
    "plt.xlabel(\"No of Tokens\")\n",
    "plt.ylabel(\"No of Words in Vocab\")\n",
    "plt.title(\"Heap's Law\")\n",
    "plt.legend(['No of Tokens vs Vocab Size'])\n",
    "plt.show()"
   ]
  },
  {
   "cell_type": "markdown",
   "metadata": {},
   "source": [
    "1. From the above plot we can say initially as the number of tokens increases, vocabulary size increases at a fast rate but after sometime its rate decreases as the number of tokens in the dataset increases."
   ]
  },
  {
   "cell_type": "code",
   "execution_count": 247,
   "metadata": {},
   "outputs": [],
   "source": [
    "slope, intercept = np.polyfit(np.array(tokens), np.array(vocab), 1)"
   ]
  },
  {
   "cell_type": "code",
   "execution_count": 215,
   "metadata": {},
   "outputs": [
    {
     "name": "stdout",
     "output_type": "stream",
     "text": [
      "Value of the slope:  0.09925453130513372\n",
      "Value of Intercept Term : 6469.818101984001\n"
     ]
    }
   ],
   "source": [
    "print(\"Value of the slope: \",slope)\n",
    "print(\"Value of Intercept Term :\",intercept)"
   ]
  },
  {
   "cell_type": "code",
   "execution_count": 248,
   "metadata": {},
   "outputs": [],
   "source": [
    "##fit the dataset using a polynomial\n",
    "slope, intercept = np.polyfit(np.log(tokens), np.log(vocab), 1)"
   ]
  },
  {
   "cell_type": "code",
   "execution_count": 249,
   "metadata": {},
   "outputs": [
    {
     "name": "stdout",
     "output_type": "stream",
     "text": [
      "Value of the slope:  0.6556903619919037\n",
      "Value of Intercept Term : 2.211884513651727\n"
     ]
    }
   ],
   "source": [
    "print(\"Value of the slope: \",slope)\n",
    "print(\"Value of Intercept Term :\",intercept)"
   ]
  }
 ],
 "metadata": {
  "kernelspec": {
   "display_name": "Python 3",
   "language": "python",
   "name": "python3"
  },
  "language_info": {
   "codemirror_mode": {
    "name": "ipython",
    "version": 3
   },
   "file_extension": ".py",
   "mimetype": "text/x-python",
   "name": "python",
   "nbconvert_exporter": "python",
   "pygments_lexer": "ipython3",
   "version": "3.7.3"
  }
 },
 "nbformat": 4,
 "nbformat_minor": 2
}
